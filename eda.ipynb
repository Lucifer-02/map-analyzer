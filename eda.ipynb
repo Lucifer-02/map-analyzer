{
 "cells": [
  {
   "cell_type": "code",
   "execution_count": 1,
   "id": "7762e5da-1185-446a-8507-0bb8fbd727d8",
   "metadata": {},
   "outputs": [],
   "source": [
    "import polars as pl\n",
    "import altair as alt\n",
    "import matplotlib.pyplot as plt"
   ]
  },
  {
   "cell_type": "code",
   "execution_count": 2,
   "id": "26b1083f-fa37-4a25-a6c9-584781ca10df",
   "metadata": {},
   "outputs": [
    {
     "data": {
      "text/html": [
       "<div><style>\n",
       ".dataframe > thead > tr,\n",
       ".dataframe > tbody > tr {\n",
       "  text-align: right;\n",
       "  white-space: pre-wrap;\n",
       "}\n",
       "</style>\n",
       "<small>shape: (30, 6)</small><table border=\"1\" class=\"dataframe\"><thead><tr><th>COUNTRY</th><th>CITY</th><th>DISTRICT</th><th>TYPE</th><th>Dataset Estimate</th><th>Official Estimate</th></tr><tr><td>str</td><td>str</td><td>str</td><td>str</td><td>f64</td><td>f64</td></tr></thead><tbody><tr><td>&quot;Vietnam&quot;</td><td>&quot;Hà Nội&quot;</td><td>&quot;Đống Đa&quot;</td><td>&quot;Quận&quot;</td><td>478.032</td><td>401.7</td></tr><tr><td>&quot;Vietnam&quot;</td><td>&quot;Hà Nội&quot;</td><td>&quot;Đông Anh&quot;</td><td>&quot;Huyện&quot;</td><td>427.819</td><td>374.9</td></tr><tr><td>&quot;Vietnam&quot;</td><td>&quot;Hà Nội&quot;</td><td>&quot;Hoàng Mai&quot;</td><td>&quot;Quận&quot;</td><td>424.121</td><td>364.9</td></tr><tr><td>&quot;Vietnam&quot;</td><td>&quot;Hà Nội&quot;</td><td>&quot;Hai Bà Trưng&quot;</td><td>&quot;Quận&quot;</td><td>369.003</td><td>315.9</td></tr><tr><td>&quot;Vietnam&quot;</td><td>&quot;Hà Nội&quot;</td><td>&quot;Chương Mỹ&quot;</td><td>&quot;Huyện&quot;</td><td>364.014</td><td>309.6</td></tr><tr><td>&hellip;</td><td>&hellip;</td><td>&hellip;</td><td>&hellip;</td><td>&hellip;</td><td>&hellip;</td></tr><tr><td>&quot;Vietnam&quot;</td><td>&quot;Hà Nội&quot;</td><td>&quot;Thanh Oai&quot;</td><td>&quot;Huyện&quot;</td><td>196.813</td><td>185.4</td></tr><tr><td>&quot;Vietnam&quot;</td><td>&quot;Hà Nội&quot;</td><td>&quot;Hoàn Kiếm&quot;</td><td>&quot;Quận&quot;</td><td>182.718</td><td>155.9</td></tr><tr><td>&quot;Vietnam&quot;</td><td>&quot;Hà Nội&quot;</td><td>&quot;Đan Phượng&quot;</td><td>&quot;Huyện&quot;</td><td>181.365</td><td>154.3</td></tr><tr><td>&quot;Vietnam&quot;</td><td>&quot;Hà Nội&quot;</td><td>&quot;Tây Hồ&quot;</td><td>&quot;Quận&quot;</td><td>166.701</td><td>152.8</td></tr><tr><td>&quot;Vietnam&quot;</td><td>&quot;Hà Nội&quot;</td><td>&quot;Sơn Tây&quot;</td><td>&quot;Thị xã&quot;</td><td>161.501</td><td>136.6</td></tr></tbody></table></div>"
      ],
      "text/plain": [
       "shape: (30, 6)\n",
       "┌─────────┬────────┬──────────────┬────────┬──────────────────┬───────────────────┐\n",
       "│ COUNTRY ┆ CITY   ┆ DISTRICT     ┆ TYPE   ┆ Dataset Estimate ┆ Official Estimate │\n",
       "│ ---     ┆ ---    ┆ ---          ┆ ---    ┆ ---              ┆ ---               │\n",
       "│ str     ┆ str    ┆ str          ┆ str    ┆ f64              ┆ f64               │\n",
       "╞═════════╪════════╪══════════════╪════════╪══════════════════╪═══════════════════╡\n",
       "│ Vietnam ┆ Hà Nội ┆ Đống Đa      ┆ Quận   ┆ 478.032          ┆ 401.7             │\n",
       "│ Vietnam ┆ Hà Nội ┆ Đông Anh     ┆ Huyện  ┆ 427.819          ┆ 374.9             │\n",
       "│ Vietnam ┆ Hà Nội ┆ Hoàng Mai    ┆ Quận   ┆ 424.121          ┆ 364.9             │\n",
       "│ Vietnam ┆ Hà Nội ┆ Hai Bà Trưng ┆ Quận   ┆ 369.003          ┆ 315.9             │\n",
       "│ Vietnam ┆ Hà Nội ┆ Chương Mỹ    ┆ Huyện  ┆ 364.014          ┆ 309.6             │\n",
       "│ …       ┆ …      ┆ …            ┆ …      ┆ …                ┆ …                 │\n",
       "│ Vietnam ┆ Hà Nội ┆ Thanh Oai    ┆ Huyện  ┆ 196.813          ┆ 185.4             │\n",
       "│ Vietnam ┆ Hà Nội ┆ Hoàn Kiếm    ┆ Quận   ┆ 182.718          ┆ 155.9             │\n",
       "│ Vietnam ┆ Hà Nội ┆ Đan Phượng   ┆ Huyện  ┆ 181.365          ┆ 154.3             │\n",
       "│ Vietnam ┆ Hà Nội ┆ Tây Hồ       ┆ Quận   ┆ 166.701          ┆ 152.8             │\n",
       "│ Vietnam ┆ Hà Nội ┆ Sơn Tây      ┆ Thị xã ┆ 161.501          ┆ 136.6             │\n",
       "└─────────┴────────┴──────────────┴────────┴──────────────────┴───────────────────┘"
      ]
     },
     "execution_count": 2,
     "metadata": {},
     "output_type": "execute_result"
    }
   ],
   "source": [
    "data = pl.read_csv(\"./datasets/results/pop_compare.csv\")\n",
    "data"
   ]
  },
  {
   "cell_type": "code",
   "execution_count": 4,
   "id": "ee4dd625-a279-4e94-81f0-0e709370552b",
   "metadata": {},
   "outputs": [
    {
     "ename": "TypeError",
     "evalue": "argument 'index': 'int' object cannot be converted to 'PyString'",
     "output_type": "error",
     "traceback": [
      "\u001b[0;31m---------------------------------------------------------------------------\u001b[0m",
      "\u001b[0;31mTypeError\u001b[0m                                 Traceback (most recent call last)",
      "\u001b[0;32m/tmp/ipykernel_18813/3253842102.py\u001b[0m in \u001b[0;36m?\u001b[0;34m()\u001b[0m\n\u001b[0;32m----> 1\u001b[0;31m \u001b[0mdata\u001b[0m\u001b[0;34m.\u001b[0m\u001b[0mpivot\u001b[0m\u001b[0;34m(\u001b[0m\u001b[0;34m\"DISTRICT\"\u001b[0m\u001b[0;34m,\u001b[0m \u001b[0mindex\u001b[0m\u001b[0;34m=\u001b[0m\u001b[0;36m0\u001b[0m\u001b[0;34m)\u001b[0m\u001b[0;34m\u001b[0m\u001b[0;34m\u001b[0m\u001b[0m\n\u001b[0m",
      "\u001b[0;32m~/anaconda3/lib/python3.11/site-packages/polars/_utils/deprecation.py\u001b[0m in \u001b[0;36m?\u001b[0;34m(*args, **kwargs)\u001b[0m\n\u001b[1;32m     88\u001b[0m         \u001b[0;32mdef\u001b[0m \u001b[0mwrapper\u001b[0m\u001b[0;34m(\u001b[0m\u001b[0;34m*\u001b[0m\u001b[0margs\u001b[0m\u001b[0;34m:\u001b[0m \u001b[0mP\u001b[0m\u001b[0;34m.\u001b[0m\u001b[0margs\u001b[0m\u001b[0;34m,\u001b[0m \u001b[0;34m**\u001b[0m\u001b[0mkwargs\u001b[0m\u001b[0;34m:\u001b[0m \u001b[0mP\u001b[0m\u001b[0;34m.\u001b[0m\u001b[0mkwargs\u001b[0m\u001b[0;34m)\u001b[0m \u001b[0;34m->\u001b[0m \u001b[0mT\u001b[0m\u001b[0;34m:\u001b[0m\u001b[0;34m\u001b[0m\u001b[0;34m\u001b[0m\u001b[0m\n\u001b[1;32m     89\u001b[0m             _rename_keyword_argument(\n\u001b[1;32m     90\u001b[0m                 \u001b[0mold_name\u001b[0m\u001b[0;34m,\u001b[0m \u001b[0mnew_name\u001b[0m\u001b[0;34m,\u001b[0m \u001b[0mkwargs\u001b[0m\u001b[0;34m,\u001b[0m \u001b[0mfunction\u001b[0m\u001b[0;34m.\u001b[0m\u001b[0m__qualname__\u001b[0m\u001b[0;34m,\u001b[0m \u001b[0mversion\u001b[0m\u001b[0;34m\u001b[0m\u001b[0;34m\u001b[0m\u001b[0m\n\u001b[1;32m     91\u001b[0m             )\n\u001b[0;32m---> 92\u001b[0;31m             \u001b[0;32mreturn\u001b[0m \u001b[0mfunction\u001b[0m\u001b[0;34m(\u001b[0m\u001b[0;34m*\u001b[0m\u001b[0margs\u001b[0m\u001b[0;34m,\u001b[0m \u001b[0;34m**\u001b[0m\u001b[0mkwargs\u001b[0m\u001b[0;34m)\u001b[0m\u001b[0;34m\u001b[0m\u001b[0;34m\u001b[0m\u001b[0m\n\u001b[0m",
      "\u001b[0;32m~/anaconda3/lib/python3.11/site-packages/polars/dataframe/frame.py\u001b[0m in \u001b[0;36m?\u001b[0;34m(self, on, index, values, aggregate_function, maintain_order, sort_columns, separator)\u001b[0m\n\u001b[1;32m   8334\u001b[0m         \u001b[0;32melse\u001b[0m\u001b[0;34m:\u001b[0m\u001b[0;34m\u001b[0m\u001b[0;34m\u001b[0m\u001b[0m\n\u001b[1;32m   8335\u001b[0m             \u001b[0maggregate_expr\u001b[0m \u001b[0;34m=\u001b[0m \u001b[0maggregate_function\u001b[0m\u001b[0;34m.\u001b[0m\u001b[0m_pyexpr\u001b[0m\u001b[0;34m\u001b[0m\u001b[0;34m\u001b[0m\u001b[0m\n\u001b[1;32m   8336\u001b[0m \u001b[0;34m\u001b[0m\u001b[0m\n\u001b[1;32m   8337\u001b[0m         return self._from_pydf(\n\u001b[0;32m-> 8338\u001b[0;31m             self._df.pivot_expr(\n\u001b[0m\u001b[1;32m   8339\u001b[0m                 \u001b[0mon\u001b[0m\u001b[0;34m,\u001b[0m\u001b[0;34m\u001b[0m\u001b[0;34m\u001b[0m\u001b[0m\n\u001b[1;32m   8340\u001b[0m                 \u001b[0mindex\u001b[0m\u001b[0;34m,\u001b[0m\u001b[0;34m\u001b[0m\u001b[0;34m\u001b[0m\u001b[0m\n\u001b[1;32m   8341\u001b[0m                 \u001b[0mvalues\u001b[0m\u001b[0;34m,\u001b[0m\u001b[0;34m\u001b[0m\u001b[0;34m\u001b[0m\u001b[0m\n",
      "\u001b[0;31mTypeError\u001b[0m: argument 'index': 'int' object cannot be converted to 'PyString'"
     ]
    }
   ],
   "source": [
    "data.pivot(\"DISTRICT\", index=)"
   ]
  },
  {
   "cell_type": "code",
   "execution_count": 9,
   "id": "f23eb1c7-2399-49dc-a446-92e59d881fd1",
   "metadata": {},
   "outputs": [
    {
     "ename": "SyntaxError",
     "evalue": "unterminated string literal (detected at line 1) (2621049779.py, line 1)",
     "output_type": "error",
     "traceback": [
      "\u001b[0;36m  Cell \u001b[0;32mIn[9], line 1\u001b[0;36m\u001b[0m\n\u001b[0;31m    origin = pl.read_excel(\"./datasets/original/poi_original.xlsx)\u001b[0m\n\u001b[0m                           ^\u001b[0m\n\u001b[0;31mSyntaxError\u001b[0m\u001b[0;31m:\u001b[0m unterminated string literal (detected at line 1)\n"
     ]
    }
   ],
   "source": [
    "origin = pl.read_excel(\"./datasets/original/poi_original.xlsx)\n",
    "origin[\"Population\"]"
   ]
  },
  {
   "cell_type": "code",
   "execution_count": null,
   "id": "cc4c40de-378b-4a9a-8fa5-192e811a28da",
   "metadata": {},
   "outputs": [],
   "source": []
  },
  {
   "cell_type": "code",
   "execution_count": null,
   "id": "7a55d93d-2ec7-4550-b227-134c2e4ea5bb",
   "metadata": {},
   "outputs": [],
   "source": [
    "data = data.with_columns(((pl.col(\"Official Estimate\") - pl.col(\"Dataset Estimate\"))*100/pl.col(\"Official Estimate\")).alias(\"percent off\"))"
   ]
  },
  {
   "cell_type": "code",
   "execution_count": null,
   "id": "a607509c-29a6-4ce0-bf9b-623d8109b0a9",
   "metadata": {},
   "outputs": [],
   "source": [
    "# Create a bar chart comparing Dataset Estimate and Official Estimate\n",
    "plt.figure(figsize=(10, 6))\n",
    "cities = data['DISTRICT']\n",
    "\n",
    "# Plotting the estimates\n",
    "plt.bar(cities, data['Dataset Estimate'], width=0.4, label='Dataset Estimate', align='center')\n",
    "plt.bar(cities, data['Official Estimate'], width=0.4, label='Official Estimate', align='edge')\n",
    "\n",
    "# Adding labels and title\n",
    "plt.xlabel('District')\n",
    "plt.ylabel('Population Estimate')\n",
    "plt.title('Comparison of Dataset Estimate(Last updated 18 February 2023) vs. Official Estimate(02/2021)')\n",
    "plt.xticks(rotation=90)\n",
    "plt.legend()\n",
    "\n",
    "# Show the plot\n",
    "plt.tight_layout()\n",
    "plt.show()\n"
   ]
  },
  {
   "cell_type": "code",
   "execution_count": null,
   "id": "efab7274-3f89-4db9-8815-e95c79d58c9a",
   "metadata": {},
   "outputs": [],
   "source": [
    "data.select(pl.col(\"percent off\")).mean()"
   ]
  },
  {
   "cell_type": "code",
   "execution_count": null,
   "id": "971de6c2-b795-4885-b3a9-30decc7b52f0",
   "metadata": {},
   "outputs": [],
   "source": [
    "full = pl.read_excel(\"./datasets/temp/around_poi_with_population.xlsx\")\n",
    "full"
   ]
  },
  {
   "cell_type": "code",
   "execution_count": null,
   "id": "1ba6b7c2-881b-4d3b-94ce-60981f9b9f59",
   "metadata": {},
   "outputs": [],
   "source": [
    "import folium\n",
    "\n",
    "m = folium.Map(location=(21.022672, 105.831461), zoom_start=14)\n",
    "\n",
    "poi_id = 105\n",
    "poi = full.filter(pl.col(\"poi_id\").eq(poi_id)).to_dicts()\n",
    "\n",
    "folium.Marker(\n",
    "        location=[float(poi[0][\"lat\"]), float(poi[0][\"lon\"])],\n",
    "        tooltip=\"Click me!\",\n",
    "        popup=\"\",\n",
    "        icon=folium.Icon(color=\"green\"),\n",
    "    ).add_to(m)\n",
    "\n",
    "for place in poi:\n",
    "    folium.Marker(\n",
    "        location=[float(place[\"latitude\"]), float(place[\"longitude\"])],\n",
    "        tooltip=place[\"title\"],\n",
    "        icon=folium.Icon(color=\"red\"),\n",
    "    ).add_to(m)\n",
    "m"
   ]
  },
  {
   "cell_type": "code",
   "execution_count": null,
   "id": "61815e00-bbf4-40d9-9d37-fce11c6d9b39",
   "metadata": {},
   "outputs": [],
   "source": [
    "origin"
   ]
  },
  {
   "cell_type": "code",
   "execution_count": 7,
   "id": "58ab1dea-c6b0-4d4d-a7d7-b44e354bddbc",
   "metadata": {},
   "outputs": [
    {
     "ename": "NameError",
     "evalue": "name 'full' is not defined",
     "output_type": "error",
     "traceback": [
      "\u001b[0;31m---------------------------------------------------------------------------\u001b[0m",
      "\u001b[0;31mNameError\u001b[0m                                 Traceback (most recent call last)",
      "Cell \u001b[0;32mIn[7], line 1\u001b[0m\n\u001b[0;32m----> 1\u001b[0m full\u001b[38;5;241m.\u001b[39mjoin(origin, left_on\u001b[38;5;241m=\u001b[39m\u001b[38;5;124m'\u001b[39m\u001b[38;5;124mpoi_id\u001b[39m\u001b[38;5;124m'\u001b[39m, right_on\u001b[38;5;241m=\u001b[39m\u001b[38;5;124m'\u001b[39m\u001b[38;5;124mUnique Identifier\u001b[39m\u001b[38;5;124m'\u001b[39m)[\u001b[38;5;124m\"\u001b[39m\u001b[38;5;124mpoi_id\u001b[39m\u001b[38;5;124m\"\u001b[39m, \u001b[38;5;124m\"\u001b[39m\u001b[38;5;124mpopulation\u001b[39m\u001b[38;5;124m\"\u001b[39m, \u001b[38;5;124m\"\u001b[39m\u001b[38;5;124mPopulation\u001b[39m\u001b[38;5;124m\"\u001b[39m]\n",
      "\u001b[0;31mNameError\u001b[0m: name 'full' is not defined"
     ]
    }
   ],
   "source": [
    "full.join(origin, left_on='poi_id', right_on='Unique Identifier')[\"poi_id\", \"population\", \"Population\"]"
   ]
  },
  {
   "cell_type": "code",
   "execution_count": 5,
   "id": "bfcc91d9-58da-4ed2-95cf-21b8def89d8c",
   "metadata": {},
   "outputs": [
    {
     "data": {
      "text/html": [
       "<div><style>\n",
       ".dataframe > thead > tr,\n",
       ".dataframe > tbody > tr {\n",
       "  text-align: right;\n",
       "  white-space: pre-wrap;\n",
       "}\n",
       "</style>\n",
       "<small>shape: (30, 6)</small><table border=\"1\" class=\"dataframe\"><thead><tr><th>COUNTRY</th><th>CITY</th><th>DISTRICT</th><th>TYPE</th><th>Dataset Estimate</th><th>Official Estimate</th></tr><tr><td>str</td><td>str</td><td>str</td><td>str</td><td>f64</td><td>f64</td></tr></thead><tbody><tr><td>&quot;Vietnam&quot;</td><td>&quot;Hà Nội&quot;</td><td>&quot;Đống Đa&quot;</td><td>&quot;Quận&quot;</td><td>478.032</td><td>401.7</td></tr><tr><td>&quot;Vietnam&quot;</td><td>&quot;Hà Nội&quot;</td><td>&quot;Đông Anh&quot;</td><td>&quot;Huyện&quot;</td><td>427.819</td><td>374.9</td></tr><tr><td>&quot;Vietnam&quot;</td><td>&quot;Hà Nội&quot;</td><td>&quot;Hoàng Mai&quot;</td><td>&quot;Quận&quot;</td><td>424.121</td><td>364.9</td></tr><tr><td>&quot;Vietnam&quot;</td><td>&quot;Hà Nội&quot;</td><td>&quot;Hai Bà Trưng&quot;</td><td>&quot;Quận&quot;</td><td>369.003</td><td>315.9</td></tr><tr><td>&quot;Vietnam&quot;</td><td>&quot;Hà Nội&quot;</td><td>&quot;Chương Mỹ&quot;</td><td>&quot;Huyện&quot;</td><td>364.014</td><td>309.6</td></tr><tr><td>&hellip;</td><td>&hellip;</td><td>&hellip;</td><td>&hellip;</td><td>&hellip;</td><td>&hellip;</td></tr><tr><td>&quot;Vietnam&quot;</td><td>&quot;Hà Nội&quot;</td><td>&quot;Thanh Oai&quot;</td><td>&quot;Huyện&quot;</td><td>196.813</td><td>185.4</td></tr><tr><td>&quot;Vietnam&quot;</td><td>&quot;Hà Nội&quot;</td><td>&quot;Hoàn Kiếm&quot;</td><td>&quot;Quận&quot;</td><td>182.718</td><td>155.9</td></tr><tr><td>&quot;Vietnam&quot;</td><td>&quot;Hà Nội&quot;</td><td>&quot;Đan Phượng&quot;</td><td>&quot;Huyện&quot;</td><td>181.365</td><td>154.3</td></tr><tr><td>&quot;Vietnam&quot;</td><td>&quot;Hà Nội&quot;</td><td>&quot;Tây Hồ&quot;</td><td>&quot;Quận&quot;</td><td>166.701</td><td>152.8</td></tr><tr><td>&quot;Vietnam&quot;</td><td>&quot;Hà Nội&quot;</td><td>&quot;Sơn Tây&quot;</td><td>&quot;Thị xã&quot;</td><td>161.501</td><td>136.6</td></tr></tbody></table></div>"
      ],
      "text/plain": [
       "shape: (30, 6)\n",
       "┌─────────┬────────┬──────────────┬────────┬──────────────────┬───────────────────┐\n",
       "│ COUNTRY ┆ CITY   ┆ DISTRICT     ┆ TYPE   ┆ Dataset Estimate ┆ Official Estimate │\n",
       "│ ---     ┆ ---    ┆ ---          ┆ ---    ┆ ---              ┆ ---               │\n",
       "│ str     ┆ str    ┆ str          ┆ str    ┆ f64              ┆ f64               │\n",
       "╞═════════╪════════╪══════════════╪════════╪══════════════════╪═══════════════════╡\n",
       "│ Vietnam ┆ Hà Nội ┆ Đống Đa      ┆ Quận   ┆ 478.032          ┆ 401.7             │\n",
       "│ Vietnam ┆ Hà Nội ┆ Đông Anh     ┆ Huyện  ┆ 427.819          ┆ 374.9             │\n",
       "│ Vietnam ┆ Hà Nội ┆ Hoàng Mai    ┆ Quận   ┆ 424.121          ┆ 364.9             │\n",
       "│ Vietnam ┆ Hà Nội ┆ Hai Bà Trưng ┆ Quận   ┆ 369.003          ┆ 315.9             │\n",
       "│ Vietnam ┆ Hà Nội ┆ Chương Mỹ    ┆ Huyện  ┆ 364.014          ┆ 309.6             │\n",
       "│ …       ┆ …      ┆ …            ┆ …      ┆ …                ┆ …                 │\n",
       "│ Vietnam ┆ Hà Nội ┆ Thanh Oai    ┆ Huyện  ┆ 196.813          ┆ 185.4             │\n",
       "│ Vietnam ┆ Hà Nội ┆ Hoàn Kiếm    ┆ Quận   ┆ 182.718          ┆ 155.9             │\n",
       "│ Vietnam ┆ Hà Nội ┆ Đan Phượng   ┆ Huyện  ┆ 181.365          ┆ 154.3             │\n",
       "│ Vietnam ┆ Hà Nội ┆ Tây Hồ       ┆ Quận   ┆ 166.701          ┆ 152.8             │\n",
       "│ Vietnam ┆ Hà Nội ┆ Sơn Tây      ┆ Thị xã ┆ 161.501          ┆ 136.6             │\n",
       "└─────────┴────────┴──────────────┴────────┴──────────────────┴───────────────────┘"
      ]
     },
     "execution_count": 5,
     "metadata": {},
     "output_type": "execute_result"
    }
   ],
   "source": [
    "data"
   ]
  },
  {
   "cell_type": "code",
   "execution_count": 6,
   "id": "04e61a0f-54af-49d7-8962-fe9fae8e5897",
   "metadata": {},
   "outputs": [
    {
     "data": {
      "text/html": [
       "\n",
       "<style>\n",
       "  #altair-viz-97b962847cd743a9a66ff42290550d51.vega-embed {\n",
       "    width: 100%;\n",
       "    display: flex;\n",
       "  }\n",
       "\n",
       "  #altair-viz-97b962847cd743a9a66ff42290550d51.vega-embed details,\n",
       "  #altair-viz-97b962847cd743a9a66ff42290550d51.vega-embed details summary {\n",
       "    position: relative;\n",
       "  }\n",
       "</style>\n",
       "<div id=\"altair-viz-97b962847cd743a9a66ff42290550d51\"></div>\n",
       "<script type=\"text/javascript\">\n",
       "  var VEGA_DEBUG = (typeof VEGA_DEBUG == \"undefined\") ? {} : VEGA_DEBUG;\n",
       "  (function(spec, embedOpt){\n",
       "    let outputDiv = document.currentScript.previousElementSibling;\n",
       "    if (outputDiv.id !== \"altair-viz-97b962847cd743a9a66ff42290550d51\") {\n",
       "      outputDiv = document.getElementById(\"altair-viz-97b962847cd743a9a66ff42290550d51\");\n",
       "    }\n",
       "    const paths = {\n",
       "      \"vega\": \"https://cdn.jsdelivr.net/npm/vega@5?noext\",\n",
       "      \"vega-lib\": \"https://cdn.jsdelivr.net/npm/vega-lib?noext\",\n",
       "      \"vega-lite\": \"https://cdn.jsdelivr.net/npm/vega-lite@5.20.1?noext\",\n",
       "      \"vega-embed\": \"https://cdn.jsdelivr.net/npm/vega-embed@6?noext\",\n",
       "    };\n",
       "\n",
       "    function maybeLoadScript(lib, version) {\n",
       "      var key = `${lib.replace(\"-\", \"\")}_version`;\n",
       "      return (VEGA_DEBUG[key] == version) ?\n",
       "        Promise.resolve(paths[lib]) :\n",
       "        new Promise(function(resolve, reject) {\n",
       "          var s = document.createElement('script');\n",
       "          document.getElementsByTagName(\"head\")[0].appendChild(s);\n",
       "          s.async = true;\n",
       "          s.onload = () => {\n",
       "            VEGA_DEBUG[key] = version;\n",
       "            return resolve(paths[lib]);\n",
       "          };\n",
       "          s.onerror = () => reject(`Error loading script: ${paths[lib]}`);\n",
       "          s.src = paths[lib];\n",
       "        });\n",
       "    }\n",
       "\n",
       "    function showError(err) {\n",
       "      outputDiv.innerHTML = `<div class=\"error\" style=\"color:red;\">${err}</div>`;\n",
       "      throw err;\n",
       "    }\n",
       "\n",
       "    function displayChart(vegaEmbed) {\n",
       "      vegaEmbed(outputDiv, spec, embedOpt)\n",
       "        .catch(err => showError(`Javascript Error: ${err.message}<br>This usually means there's a typo in your chart specification. See the javascript console for the full traceback.`));\n",
       "    }\n",
       "\n",
       "    if(typeof define === \"function\" && define.amd) {\n",
       "      requirejs.config({paths});\n",
       "      require([\"vega-embed\"], displayChart, err => showError(`Error loading script: ${err.message}`));\n",
       "    } else {\n",
       "      maybeLoadScript(\"vega\", \"5\")\n",
       "        .then(() => maybeLoadScript(\"vega-lite\", \"5.20.1\"))\n",
       "        .then(() => maybeLoadScript(\"vega-embed\", \"6\"))\n",
       "        .catch(showError)\n",
       "        .then(() => displayChart(vegaEmbed));\n",
       "    }\n",
       "  })({\"config\": {\"view\": {\"continuousWidth\": 300, \"continuousHeight\": 300}}, \"hconcat\": [{\"mark\": {\"type\": \"bar\"}, \"encoding\": {\"x\": {\"field\": \"DISTRICT\", \"type\": \"nominal\"}, \"y\": {\"field\": \"Dataset Estimate\", \"type\": \"quantitative\"}}}, {\"mark\": {\"type\": \"tick\", \"color\": \"red\"}, \"encoding\": {\"x\": {\"field\": \"DISTRICT\", \"type\": \"nominal\"}, \"y\": {\"field\": \"Official Estimate\", \"type\": \"quantitative\"}}}], \"data\": {\"name\": \"data-46f5eb7d2c8e1102405c804baa9e3d41\"}, \"$schema\": \"https://vega.github.io/schema/vega-lite/v5.20.1.json\", \"datasets\": {\"data-46f5eb7d2c8e1102405c804baa9e3d41\": [{\"COUNTRY\": \"Vietnam\", \"CITY\": \"H\\u00e0 N\\u1ed9i\", \"DISTRICT\": \"\\u0110\\u1ed1ng \\u0110a\", \"TYPE\": \"Qu\\u1eadn\", \"Dataset Estimate\": 478.032, \"Official Estimate\": 401.7}, {\"COUNTRY\": \"Vietnam\", \"CITY\": \"H\\u00e0 N\\u1ed9i\", \"DISTRICT\": \"\\u0110\\u00f4ng Anh\", \"TYPE\": \"Huy\\u1ec7n\", \"Dataset Estimate\": 427.819, \"Official Estimate\": 374.9}, {\"COUNTRY\": \"Vietnam\", \"CITY\": \"H\\u00e0 N\\u1ed9i\", \"DISTRICT\": \"Ho\\u00e0ng Mai\", \"TYPE\": \"Qu\\u1eadn\", \"Dataset Estimate\": 424.121, \"Official Estimate\": 364.9}, {\"COUNTRY\": \"Vietnam\", \"CITY\": \"H\\u00e0 N\\u1ed9i\", \"DISTRICT\": \"Hai B\\u00e0 Tr\\u01b0ng\", \"TYPE\": \"Qu\\u1eadn\", \"Dataset Estimate\": 369.003, \"Official Estimate\": 315.9}, {\"COUNTRY\": \"Vietnam\", \"CITY\": \"H\\u00e0 N\\u1ed9i\", \"DISTRICT\": \"Ch\\u01b0\\u01a1ng M\\u1ef9\", \"TYPE\": \"Huy\\u1ec7n\", \"Dataset Estimate\": 364.014, \"Official Estimate\": 309.6}, {\"COUNTRY\": \"Vietnam\", \"CITY\": \"H\\u00e0 N\\u1ed9i\", \"DISTRICT\": \"S\\u00f3c S\\u01a1n\", \"TYPE\": \"Huy\\u1ec7n\", \"Dataset Estimate\": 360.961, \"Official Estimate\": 316.6}, {\"COUNTRY\": \"Vietnam\", \"CITY\": \"H\\u00e0 N\\u1ed9i\", \"DISTRICT\": \"H\\u00e0 \\u0110\\u00f4ng\", \"TYPE\": \"Qu\\u1eadn\", \"Dataset Estimate\": 345.831, \"Official Estimate\": 284.5}, {\"COUNTRY\": \"Vietnam\", \"CITY\": \"H\\u00e0 N\\u1ed9i\", \"DISTRICT\": \"Ba V\\u00ec\", \"TYPE\": \"Huy\\u1ec7n\", \"Dataset Estimate\": 316.882, \"Official Estimate\": 267.3}, {\"COUNTRY\": \"Vietnam\", \"CITY\": \"H\\u00e0 N\\u1ed9i\", \"DISTRICT\": \"Gia L\\u00e2m\", \"TYPE\": \"Huy\\u1ec7n\", \"Dataset Estimate\": 294.699, \"Official Estimate\": 253.8}, {\"COUNTRY\": \"Vietnam\", \"CITY\": \"H\\u00e0 N\\u1ed9i\", \"DISTRICT\": \"Long Bi\\u00ean\", \"TYPE\": \"Qu\\u1eadn\", \"Dataset Estimate\": 291.081, \"Official Estimate\": 270.3}, {\"COUNTRY\": \"Vietnam\", \"CITY\": \"H\\u00e0 N\\u1ed9i\", \"DISTRICT\": \"Ba \\u0110\\u00ecnh\", \"TYPE\": \"Qu\\u1eadn\", \"Dataset Estimate\": 289.529, \"Official Estimate\": 242.8}, {\"COUNTRY\": \"Vietnam\", \"CITY\": \"H\\u00e0 N\\u1ed9i\", \"DISTRICT\": \"C\\u1ea7u Gi\\u1ea5y\", \"TYPE\": \"Qu\\u1eadn\", \"Dataset Estimate\": 286.59, \"Official Estimate\": 251.8}, {\"COUNTRY\": \"Vietnam\", \"CITY\": \"H\\u00e0 N\\u1ed9i\", \"DISTRICT\": \"Thanh Xu\\u00e2n\", \"TYPE\": \"Qu\\u1eadn\", \"Dataset Estimate\": 281.37, \"Official Estimate\": 266.0}, {\"COUNTRY\": \"Vietnam\", \"CITY\": \"H\\u00e0 N\\u1ed9i\", \"DISTRICT\": \"Th\\u01b0\\u1eddng T\\u00edn\", \"TYPE\": \"Huy\\u1ec7n\", \"Dataset Estimate\": 277.266, \"Official Estimate\": 236.3}, {\"COUNTRY\": \"Vietnam\", \"CITY\": \"H\\u00e0 N\\u1ed9i\", \"DISTRICT\": \"B\\u1eafc T\\u1eeb Li\\u00eam\", \"TYPE\": \"Qu\\u1eadn\", \"Dataset Estimate\": 270.727, \"Official Estimate\": 320.4}, {\"COUNTRY\": \"Vietnam\", \"CITY\": \"H\\u00e0 N\\u1ed9i\", \"DISTRICT\": \"Thanh Tr\\u00ec\", \"TYPE\": \"Huy\\u1ec7n\", \"Dataset Estimate\": 252.615, \"Official Estimate\": 221.8}, {\"COUNTRY\": \"Vietnam\", \"CITY\": \"H\\u00e0 N\\u1ed9i\", \"DISTRICT\": \"Nam T\\u1eeb Li\\u00eam\", \"TYPE\": \"Qu\\u1eadn\", \"Dataset Estimate\": 246.0, \"Official Estimate\": 232.9}, {\"COUNTRY\": \"Vietnam\", \"CITY\": \"H\\u00e0 N\\u1ed9i\", \"DISTRICT\": \"M\\u00ea Linh\", \"TYPE\": \"Huy\\u1ec7n\", \"Dataset Estimate\": 245.058, \"Official Estimate\": 210.6}, {\"COUNTRY\": \"Vietnam\", \"CITY\": \"H\\u00e0 N\\u1ed9i\", \"DISTRICT\": \"Th\\u1ea1ch Th\\u1ea5t\", \"TYPE\": \"Huy\\u1ec7n\", \"Dataset Estimate\": 238.874, \"Official Estimate\": 194.1}, {\"COUNTRY\": \"Vietnam\", \"CITY\": \"H\\u00e0 N\\u1ed9i\", \"DISTRICT\": \"Ph\\u00fa Xuy\\u00ean\", \"TYPE\": \"Huy\\u1ec7n\", \"Dataset Estimate\": 234.127, \"Official Estimate\": 187.0}, {\"COUNTRY\": \"Vietnam\", \"CITY\": \"H\\u00e0 N\\u1ed9i\", \"DISTRICT\": \"\\u1ee8ng H\\u00f2a\", \"TYPE\": \"Huy\\u1ec7n\", \"Dataset Estimate\": 233.04, \"Official Estimate\": 191.7}, {\"COUNTRY\": \"Vietnam\", \"CITY\": \"H\\u00e0 N\\u1ed9i\", \"DISTRICT\": \"Ho\\u00e0i \\u0110\\u1ee9c\", \"TYPE\": \"Huy\\u1ec7n\", \"Dataset Estimate\": 226.459, \"Official Estimate\": 212.1}, {\"COUNTRY\": \"Vietnam\", \"CITY\": \"H\\u00e0 N\\u1ed9i\", \"DISTRICT\": \"M\\u1ef9 \\u0110\\u1ee9c\", \"TYPE\": \"Huy\\u1ec7n\", \"Dataset Estimate\": 216.724, \"Official Estimate\": 183.5}, {\"COUNTRY\": \"Vietnam\", \"CITY\": \"H\\u00e0 N\\u1ed9i\", \"DISTRICT\": \"Qu\\u1ed1c Oai\", \"TYPE\": \"Huy\\u1ec7n\", \"Dataset Estimate\": 210.644, \"Official Estimate\": 174.2}, {\"COUNTRY\": \"Vietnam\", \"CITY\": \"H\\u00e0 N\\u1ed9i\", \"DISTRICT\": \"Ph\\u00fac Th\\u1ecd\", \"TYPE\": \"Huy\\u1ec7n\", \"Dataset Estimate\": 204.505, \"Official Estimate\": 172.5}, {\"COUNTRY\": \"Vietnam\", \"CITY\": \"H\\u00e0 N\\u1ed9i\", \"DISTRICT\": \"Thanh Oai\", \"TYPE\": \"Huy\\u1ec7n\", \"Dataset Estimate\": 196.813, \"Official Estimate\": 185.4}, {\"COUNTRY\": \"Vietnam\", \"CITY\": \"H\\u00e0 N\\u1ed9i\", \"DISTRICT\": \"Ho\\u00e0n Ki\\u1ebfm\", \"TYPE\": \"Qu\\u1eadn\", \"Dataset Estimate\": 182.718, \"Official Estimate\": 155.9}, {\"COUNTRY\": \"Vietnam\", \"CITY\": \"H\\u00e0 N\\u1ed9i\", \"DISTRICT\": \"\\u0110an Ph\\u01b0\\u1ee3ng\", \"TYPE\": \"Huy\\u1ec7n\", \"Dataset Estimate\": 181.365, \"Official Estimate\": 154.3}, {\"COUNTRY\": \"Vietnam\", \"CITY\": \"H\\u00e0 N\\u1ed9i\", \"DISTRICT\": \"T\\u00e2y H\\u1ed3\", \"TYPE\": \"Qu\\u1eadn\", \"Dataset Estimate\": 166.701, \"Official Estimate\": 152.8}, {\"COUNTRY\": \"Vietnam\", \"CITY\": \"H\\u00e0 N\\u1ed9i\", \"DISTRICT\": \"S\\u01a1n T\\u00e2y\", \"TYPE\": \"Th\\u1ecb x\\u00e3\", \"Dataset Estimate\": 161.501, \"Official Estimate\": 136.6}]}}, {\"mode\": \"vega-lite\"});\n",
       "</script>"
      ],
      "text/plain": [
       "alt.HConcatChart(...)"
      ]
     },
     "execution_count": 6,
     "metadata": {},
     "output_type": "execute_result"
    }
   ],
   "source": [
    "dataset_chart = alt.Chart(data).mark_bar().encode(\n",
    "    x='DISTRICT:N',\n",
    "    y='Dataset Estimate:Q'\n",
    ")\n",
    "official_chart = alt.Chart(data).mark_tick(color='red').encode(\n",
    "    x='DISTRICT:N',\n",
    "    y='Official Estimate:Q',\n",
    ")\n",
    "dataset_chart | official_chart"
   ]
  }
 ],
 "metadata": {
  "kernelspec": {
   "display_name": "Python 3 (ipykernel)",
   "language": "python",
   "name": "python3"
  },
  "language_info": {
   "codemirror_mode": {
    "name": "ipython",
    "version": 3
   },
   "file_extension": ".py",
   "mimetype": "text/x-python",
   "name": "python",
   "nbconvert_exporter": "python",
   "pygments_lexer": "ipython3",
   "version": "3.11.7"
  }
 },
 "nbformat": 4,
 "nbformat_minor": 5
}
