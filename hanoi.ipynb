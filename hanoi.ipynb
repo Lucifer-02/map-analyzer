{
 "cells": [
  {
   "cell_type": "code",
   "execution_count": 1,
   "id": "a52d3f0d-30c6-4dda-bc7e-5f34b7481fed",
   "metadata": {},
   "outputs": [],
   "source": [
    "import polars as pl"
   ]
  },
  {
   "cell_type": "code",
   "execution_count": 2,
   "id": "95718146-c0c0-42f7-a2bf-64fba3408895",
   "metadata": {},
   "outputs": [
    {
     "data": {
      "text/html": [
       "<div><style>\n",
       ".dataframe > thead > tr,\n",
       ".dataframe > tbody > tr {\n",
       "  text-align: right;\n",
       "  white-space: pre-wrap;\n",
       "}\n",
       "</style>\n",
       "<small>shape: (469, 7)</small><table border=\"1\" class=\"dataframe\"><thead><tr><th>link</th><th>title</th><th>category</th><th>categories</th><th>latitude</th><th>longitude</th><th>address</th></tr><tr><td>str</td><td>str</td><td>str</td><td>str</td><td>f64</td><td>f64</td><td>str</td></tr></thead><tbody><tr><td>&quot;https://www.google.com/maps/pl…</td><td>&quot;Bus station Hoàng Quốc Việt&quot;</td><td>&quot;School bus service&quot;</td><td>&quot;School bus service&quot;</td><td>21.045937</td><td>105.784658</td><td>&quot;2QWM+9VF Bus station Hoàng Quố…</td></tr><tr><td>&quot;https://www.google.com/maps/pl…</td><td>&quot;Ga Hà Nội&quot;</td><td>&quot;Bus stop&quot;</td><td>&quot;Bus stop&quot;</td><td>21.02377</td><td>105.841351</td><td>&quot;Cửa Nam, Hoàn Kiếm, Hà Nội&quot;</td></tr><tr><td>&quot;https://www.google.com/maps/pl…</td><td>&quot;30-32 Tràng Tiền&quot;</td><td>&quot;Bus stop&quot;</td><td>&quot;Bus stop&quot;</td><td>21.024805</td><td>105.855564</td><td>&quot;French Quarter, Tràng Tiền, Ho…</td></tr><tr><td>&quot;https://www.google.com/maps/pl…</td><td>&quot;27/7 Vietbus Transport JSC&quot;</td><td>&quot;Bus stop&quot;</td><td>&quot;Bus stop&quot;</td><td>21.012291</td><td>105.866928</td><td>&quot;736, Bach Dang Street, Hoan Ki…</td></tr><tr><td>&quot;https://www.google.com/maps/pl…</td><td>&quot;16, 24, 27&quot;</td><td>&quot;Bus stop&quot;</td><td>&quot;Bus stop&quot;</td><td>21.014914</td><td>105.805406</td><td>&quot;Đ. Láng, Trung Hoà, Đống Đa, H…</td></tr><tr><td>&hellip;</td><td>&hellip;</td><td>&hellip;</td><td>&hellip;</td><td>&hellip;</td><td>&hellip;</td><td>&hellip;</td></tr><tr><td>&quot;https://www.google.com/maps/pl…</td><td>&quot;Nhà Thi Đấu Thể Thao xã Hương …</td><td>&quot;Gym&quot;</td><td>&quot;Gym&quot;</td><td>20.627741</td><td>105.782018</td><td>&quot;ĐT419, Hương Sơn, Chương Mỹ, H…</td></tr><tr><td>&quot;https://www.google.com/maps/pl…</td><td>&quot;X-Men Gym&quot;</td><td>&quot;Gym&quot;</td><td>&quot;Gym&quot;</td><td>21.036036</td><td>105.846127</td><td>&quot;91 P. Phùng Hưng, Hàng Bồ, Hoà…</td></tr><tr><td>&quot;https://www.google.com/maps/pl…</td><td>&quot;Gym Fitness Cộng Đồng - 159 Qu…</td><td>&quot;Gym&quot;</td><td>&quot;Gym&quot;</td><td>21.003802</td><td>105.811252</td><td>&quot;159B P. Quan Nhân, Nhân Chính,…</td></tr><tr><td>&quot;https://www.google.com/maps/pl…</td><td>&quot;GYM BÌNH MINH&quot;</td><td>&quot;Gym&quot;</td><td>&quot;Gym&quot;</td><td>20.694118</td><td>105.897965</td><td>&quot;Ngõ 2, Thôn Giẽ Thượng, Xã Phú…</td></tr><tr><td>&quot;https://www.google.com/maps/pl…</td><td>&quot;Lineup Valorant&quot;</td><td>&quot;Theme park&quot;</td><td>&quot;Theme park&quot;</td><td>21.015024</td><td>105.858895</td><td>&quot;Sài Sơn, Quốc Oai, Hà Nội 000…</td></tr></tbody></table></div>"
      ],
      "text/plain": [
       "shape: (469, 7)\n",
       "┌──────────────┬──────────────┬──────────────┬──────────────┬───────────┬────────────┬─────────────┐\n",
       "│ link         ┆ title        ┆ category     ┆ categories   ┆ latitude  ┆ longitude  ┆ address     │\n",
       "│ ---          ┆ ---          ┆ ---          ┆ ---          ┆ ---       ┆ ---        ┆ ---         │\n",
       "│ str          ┆ str          ┆ str          ┆ str          ┆ f64       ┆ f64        ┆ str         │\n",
       "╞══════════════╪══════════════╪══════════════╪══════════════╪═══════════╪════════════╪═════════════╡\n",
       "│ https://www. ┆ Bus station  ┆ School bus   ┆ School bus   ┆ 21.045937 ┆ 105.784658 ┆ 2QWM+9VF    │\n",
       "│ google.com/m ┆ Hoàng Quốc   ┆ service      ┆ service      ┆           ┆            ┆ Bus station │\n",
       "│ aps/pl…      ┆ Việt         ┆              ┆              ┆           ┆            ┆ Hoàng Quố…  │\n",
       "│ https://www. ┆ Ga Hà Nội    ┆ Bus stop     ┆ Bus stop     ┆ 21.02377  ┆ 105.841351 ┆ Cửa Nam,    │\n",
       "│ google.com/m ┆              ┆              ┆              ┆           ┆            ┆ Hoàn Kiếm,  │\n",
       "│ aps/pl…      ┆              ┆              ┆              ┆           ┆            ┆ Hà Nội      │\n",
       "│ https://www. ┆ 30-32 Tràng  ┆ Bus stop     ┆ Bus stop     ┆ 21.024805 ┆ 105.855564 ┆ French      │\n",
       "│ google.com/m ┆ Tiền         ┆              ┆              ┆           ┆            ┆ Quarter,    │\n",
       "│ aps/pl…      ┆              ┆              ┆              ┆           ┆            ┆ Tràng Tiền, │\n",
       "│              ┆              ┆              ┆              ┆           ┆            ┆ Ho…         │\n",
       "│ https://www. ┆ 27/7 Vietbus ┆ Bus stop     ┆ Bus stop     ┆ 21.012291 ┆ 105.866928 ┆ 736, Bach   │\n",
       "│ google.com/m ┆ Transport    ┆              ┆              ┆           ┆            ┆ Dang        │\n",
       "│ aps/pl…      ┆ JSC          ┆              ┆              ┆           ┆            ┆ Street,     │\n",
       "│              ┆              ┆              ┆              ┆           ┆            ┆ Hoan Ki…    │\n",
       "│ https://www. ┆ 16, 24, 27   ┆ Bus stop     ┆ Bus stop     ┆ 21.014914 ┆ 105.805406 ┆ Đ. Láng,    │\n",
       "│ google.com/m ┆              ┆              ┆              ┆           ┆            ┆ Trung Hoà,  │\n",
       "│ aps/pl…      ┆              ┆              ┆              ┆           ┆            ┆ Đống Đa, H… │\n",
       "│ …            ┆ …            ┆ …            ┆ …            ┆ …         ┆ …          ┆ …           │\n",
       "│ https://www. ┆ Nhà Thi Đấu  ┆ Gym          ┆ Gym          ┆ 20.627741 ┆ 105.782018 ┆ ĐT419,      │\n",
       "│ google.com/m ┆ Thể Thao xã  ┆              ┆              ┆           ┆            ┆ Hương Sơn,  │\n",
       "│ aps/pl…      ┆ Hương …      ┆              ┆              ┆           ┆            ┆ Chương Mỹ,  │\n",
       "│              ┆              ┆              ┆              ┆           ┆            ┆ H…          │\n",
       "│ https://www. ┆ X-Men Gym    ┆ Gym          ┆ Gym          ┆ 21.036036 ┆ 105.846127 ┆ 91 P. Phùng │\n",
       "│ google.com/m ┆              ┆              ┆              ┆           ┆            ┆ Hưng, Hàng  │\n",
       "│ aps/pl…      ┆              ┆              ┆              ┆           ┆            ┆ Bồ, Hoà…    │\n",
       "│ https://www. ┆ Gym Fitness  ┆ Gym          ┆ Gym          ┆ 21.003802 ┆ 105.811252 ┆ 159B P.     │\n",
       "│ google.com/m ┆ Cộng Đồng -  ┆              ┆              ┆           ┆            ┆ Quan Nhân,  │\n",
       "│ aps/pl…      ┆ 159 Qu…      ┆              ┆              ┆           ┆            ┆ Nhân        │\n",
       "│              ┆              ┆              ┆              ┆           ┆            ┆ Chính,…     │\n",
       "│ https://www. ┆ GYM BÌNH     ┆ Gym          ┆ Gym          ┆ 20.694118 ┆ 105.897965 ┆ Ngõ 2, Thôn │\n",
       "│ google.com/m ┆ MINH         ┆              ┆              ┆           ┆            ┆ Giẽ Thượng, │\n",
       "│ aps/pl…      ┆              ┆              ┆              ┆           ┆            ┆ Xã Phú…     │\n",
       "│ https://www. ┆ Lineup       ┆ Theme park   ┆ Theme park   ┆ 21.015024 ┆ 105.858895 ┆ Sài Sơn,    │\n",
       "│ google.com/m ┆ Valorant     ┆              ┆              ┆           ┆            ┆ Quốc Oai,   │\n",
       "│ aps/pl…      ┆              ┆              ┆              ┆           ┆            ┆ Hà Nội 000… │\n",
       "└──────────────┴──────────────┴──────────────┴──────────────┴───────────┴────────────┴─────────────┘"
      ]
     },
     "execution_count": 2,
     "metadata": {},
     "output_type": "execute_result"
    }
   ],
   "source": [
    "df = pl.read_parquet(\"../datasets/raw/oss/ha_noi_0.parquet\")\n",
    "df"
   ]
  },
  {
   "cell_type": "code",
   "execution_count": 5,
   "id": "f2cfa440-e8bc-45fd-a1a5-e72667b5d0c0",
   "metadata": {},
   "outputs": [
    {
     "ename": "ImportError",
     "evalue": "attempted relative import with no known parent package",
     "output_type": "error",
     "traceback": [
      "\u001b[0;31m---------------------------------------------------------------------------\u001b[0m",
      "\u001b[0;31mImportError\u001b[0m                               Traceback (most recent call last)",
      "Cell \u001b[0;32mIn[5], line 1\u001b[0m\n\u001b[0;32m----> 1\u001b[0m \u001b[38;5;28;01mfrom\u001b[39;00m\u001b[38;5;250m \u001b[39m\u001b[38;5;21;01m.\u001b[39;00m\u001b[38;5;21;01m.\u001b[39;00m\u001b[38;5;21;01mmylib\u001b[39;00m\u001b[38;5;21;01m.\u001b[39;00m\u001b[38;5;21;01mutils\u001b[39;00m\u001b[38;5;250m \u001b[39m\u001b[38;5;28;01mimport\u001b[39;00m filter_within_radius\n",
      "\u001b[0;31mImportError\u001b[0m: attempted relative import with no known parent package"
     ]
    }
   ],
   "source": [
    "from ..mylib.utils import filter_within_radius"
   ]
  }
 ],
 "metadata": {
  "kernelspec": {
   "display_name": "Python 3 (ipykernel)",
   "language": "python",
   "name": "python3"
  },
  "language_info": {
   "codemirror_mode": {
    "name": "ipython",
    "version": 3
   },
   "file_extension": ".py",
   "mimetype": "text/x-python",
   "name": "python",
   "nbconvert_exporter": "python",
   "pygments_lexer": "ipython3",
   "version": "3.12.10"
  }
 },
 "nbformat": 4,
 "nbformat_minor": 5
}
