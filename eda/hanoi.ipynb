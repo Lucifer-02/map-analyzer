{
 "cells": [
  {
   "cell_type": "code",
   "execution_count": 2,
   "id": "a52d3f0d-30c6-4dda-bc7e-5f34b7481fed",
   "metadata": {},
   "outputs": [],
   "source": [
    "import polars as pl"
   ]
  },
  {
   "cell_type": "code",
   "execution_count": 3,
   "id": "95718146-c0c0-42f7-a2bf-64fba3408895",
   "metadata": {},
   "outputs": [
    {
     "data": {
      "text/html": [
       "<div><style>\n",
       ".dataframe > thead > tr,\n",
       ".dataframe > tbody > tr {\n",
       "  text-align: right;\n",
       "  white-space: pre-wrap;\n",
       "}\n",
       "</style>\n",
       "<small>shape: (575, 8)</small><table border=\"1\" class=\"dataframe\"><thead><tr><th>query</th><th>link</th><th>title</th><th>category</th><th>categories</th><th>latitude</th><th>longitude</th><th>address</th></tr><tr><td>str</td><td>str</td><td>str</td><td>str</td><td>str</td><td>f64</td><td>f64</td><td>str</td></tr></thead><tbody><tr><td>&quot;transit_station&quot;</td><td>&quot;https://www.google.com/maps/pl…</td><td>&quot;Dth Transport &amp; Construction T…</td><td>&quot;Bus stop&quot;</td><td>&quot;Bus stop&quot;</td><td>21.007582</td><td>105.849877</td><td>&quot;12/33, De To Hoang Street, Hai…</td></tr><tr><td>&quot;transit_station&quot;</td><td>&quot;https://www.google.com/maps/pl…</td><td>&quot;(A) Trần Khánh Dư&quot;</td><td>&quot;Bus stop&quot;</td><td>&quot;Bus stop&quot;</td><td>21.023383</td><td>105.860567</td><td>&quot;Phan Chu Trinh, Hoàn Kiếm, Hà …</td></tr><tr><td>&quot;bus_station&quot;</td><td>&quot;https://www.google.com/maps/pl…</td><td>&quot;Ga Hà Nội&quot;</td><td>&quot;Bus stop&quot;</td><td>&quot;Bus stop&quot;</td><td>21.02377</td><td>105.841351</td><td>&quot;Cửa Nam, Hoàn Kiếm, Hà Nội&quot;</td></tr><tr><td>&quot;transit_station&quot;</td><td>&quot;https://www.google.com/maps/pl…</td><td>&quot;49&quot;</td><td>&quot;Bus stop&quot;</td><td>&quot;Bus stop&quot;</td><td>21.025306</td><td>105.844023</td><td>&quot;nhà hàng nhật Kimono P. Lý Thư…</td></tr><tr><td>&quot;transit_station&quot;</td><td>&quot;https://www.google.com/maps/pl…</td><td>&quot;Ha Thanh Trading &amp; Travel Tran…</td><td>&quot;Bus stop&quot;</td><td>&quot;Bus stop&quot;</td><td>21.029688</td><td>105.850432</td><td>&quot;128, Hang Trong Street, Hang T…</td></tr><tr><td>&hellip;</td><td>&hellip;</td><td>&hellip;</td><td>&hellip;</td><td>&hellip;</td><td>&hellip;</td><td>&hellip;</td><td>&hellip;</td></tr><tr><td>&quot;hospital&quot;</td><td>&quot;https://www.google.com/maps/pl…</td><td>&quot;Hong Ngoc General Hospital&quot;</td><td>&quot;General hospital&quot;</td><td>&quot;General hospital, Obstetrician…</td><td>21.042482</td><td>105.844177</td><td>&quot;55 P. Yên Ninh, Quán Thánh, Ba…</td></tr><tr><td>&quot;hospital&quot;</td><td>&quot;https://www.google.com/maps/pl…</td><td>&quot;Dong Anh General Hospital&quot;</td><td>&quot;General hospital&quot;</td><td>&quot;General hospital, Doctor&quot;</td><td>21.139304</td><td>105.853405</td><td>&quot;48 Đ. Đản Dị, Uy Nỗ, Đông Anh,…</td></tr><tr><td>&quot;hospital&quot;</td><td>&quot;https://www.google.com/maps/pl…</td><td>&quot;Thien Duc Hospital&quot;</td><td>&quot;General hospital&quot;</td><td>&quot;General hospital&quot;</td><td>20.968677</td><td>105.78678</td><td>&quot;207 Đ. Phùng Hưng, P. Phúc La,…</td></tr><tr><td>&quot;hospital&quot;</td><td>&quot;https://www.google.com/maps/pl…</td><td>&quot;Phu Xuyen Hospital&quot;</td><td>&quot;General hospital&quot;</td><td>&quot;General hospital&quot;</td><td>20.729694</td><td>105.914442</td><td>&quot;PWH7+VQG Phu Xuyen Hospital, Q…</td></tr><tr><td>&quot;hospital&quot;</td><td>&quot;https://www.google.com/maps/pl…</td><td>&quot;Trang An General Hospital&quot;</td><td>&quot;General hospital&quot;</td><td>&quot;General hospital&quot;</td><td>21.025688</td><td>105.835331</td><td>&quot;59 Ng. Thông Phong, Văn Chương…</td></tr></tbody></table></div>"
      ],
      "text/plain": [
       "shape: (575, 8)\n",
       "┌────────────┬────────────┬────────────┬───────────┬───────────┬───────────┬───────────┬───────────┐\n",
       "│ query      ┆ link       ┆ title      ┆ category  ┆ categorie ┆ latitude  ┆ longitude ┆ address   │\n",
       "│ ---        ┆ ---        ┆ ---        ┆ ---       ┆ s         ┆ ---       ┆ ---       ┆ ---       │\n",
       "│ str        ┆ str        ┆ str        ┆ str       ┆ ---       ┆ f64       ┆ f64       ┆ str       │\n",
       "│            ┆            ┆            ┆           ┆ str       ┆           ┆           ┆           │\n",
       "╞════════════╪════════════╪════════════╪═══════════╪═══════════╪═══════════╪═══════════╪═══════════╡\n",
       "│ transit_st ┆ https://ww ┆ Dth        ┆ Bus stop  ┆ Bus stop  ┆ 21.007582 ┆ 105.84987 ┆ 12/33, De │\n",
       "│ ation      ┆ w.google.c ┆ Transport  ┆           ┆           ┆           ┆ 7         ┆ To Hoang  │\n",
       "│            ┆ om/maps/pl ┆ & Construc ┆           ┆           ┆           ┆           ┆ Street,   │\n",
       "│            ┆ …          ┆ tion T…    ┆           ┆           ┆           ┆           ┆ Hai…      │\n",
       "│ transit_st ┆ https://ww ┆ (A) Trần   ┆ Bus stop  ┆ Bus stop  ┆ 21.023383 ┆ 105.86056 ┆ Phan Chu  │\n",
       "│ ation      ┆ w.google.c ┆ Khánh Dư   ┆           ┆           ┆           ┆ 7         ┆ Trinh,    │\n",
       "│            ┆ om/maps/pl ┆            ┆           ┆           ┆           ┆           ┆ Hoàn      │\n",
       "│            ┆ …          ┆            ┆           ┆           ┆           ┆           ┆ Kiếm, Hà  │\n",
       "│            ┆            ┆            ┆           ┆           ┆           ┆           ┆ …         │\n",
       "│ bus_statio ┆ https://ww ┆ Ga Hà Nội  ┆ Bus stop  ┆ Bus stop  ┆ 21.02377  ┆ 105.84135 ┆ Cửa Nam,  │\n",
       "│ n          ┆ w.google.c ┆            ┆           ┆           ┆           ┆ 1         ┆ Hoàn      │\n",
       "│            ┆ om/maps/pl ┆            ┆           ┆           ┆           ┆           ┆ Kiếm, Hà  │\n",
       "│            ┆ …          ┆            ┆           ┆           ┆           ┆           ┆ Nội       │\n",
       "│ transit_st ┆ https://ww ┆ 49         ┆ Bus stop  ┆ Bus stop  ┆ 21.025306 ┆ 105.84402 ┆ nhà hàng  │\n",
       "│ ation      ┆ w.google.c ┆            ┆           ┆           ┆           ┆ 3         ┆ nhật      │\n",
       "│            ┆ om/maps/pl ┆            ┆           ┆           ┆           ┆           ┆ Kimono P. │\n",
       "│            ┆ …          ┆            ┆           ┆           ┆           ┆           ┆ Lý Thư…   │\n",
       "│ transit_st ┆ https://ww ┆ Ha Thanh   ┆ Bus stop  ┆ Bus stop  ┆ 21.029688 ┆ 105.85043 ┆ 128, Hang │\n",
       "│ ation      ┆ w.google.c ┆ Trading &  ┆           ┆           ┆           ┆ 2         ┆ Trong     │\n",
       "│            ┆ om/maps/pl ┆ Travel     ┆           ┆           ┆           ┆           ┆ Street,   │\n",
       "│            ┆ …          ┆ Tran…      ┆           ┆           ┆           ┆           ┆ Hang T…   │\n",
       "│ …          ┆ …          ┆ …          ┆ …         ┆ …         ┆ …         ┆ …         ┆ …         │\n",
       "│ hospital   ┆ https://ww ┆ Hong Ngoc  ┆ General   ┆ General   ┆ 21.042482 ┆ 105.84417 ┆ 55 P. Yên │\n",
       "│            ┆ w.google.c ┆ General    ┆ hospital  ┆ hospital, ┆           ┆ 7         ┆ Ninh,     │\n",
       "│            ┆ om/maps/pl ┆ Hospital   ┆           ┆ Obstetric ┆           ┆           ┆ Quán      │\n",
       "│            ┆ …          ┆            ┆           ┆ ian…      ┆           ┆           ┆ Thánh,    │\n",
       "│            ┆            ┆            ┆           ┆           ┆           ┆           ┆ Ba…       │\n",
       "│ hospital   ┆ https://ww ┆ Dong Anh   ┆ General   ┆ General   ┆ 21.139304 ┆ 105.85340 ┆ 48 Đ. Đản │\n",
       "│            ┆ w.google.c ┆ General    ┆ hospital  ┆ hospital, ┆           ┆ 5         ┆ Dị, Uy    │\n",
       "│            ┆ om/maps/pl ┆ Hospital   ┆           ┆ Doctor    ┆           ┆           ┆ Nỗ, Đông  │\n",
       "│            ┆ …          ┆            ┆           ┆           ┆           ┆           ┆ Anh,…     │\n",
       "│ hospital   ┆ https://ww ┆ Thien Duc  ┆ General   ┆ General   ┆ 20.968677 ┆ 105.78678 ┆ 207 Đ.    │\n",
       "│            ┆ w.google.c ┆ Hospital   ┆ hospital  ┆ hospital  ┆           ┆           ┆ Phùng     │\n",
       "│            ┆ om/maps/pl ┆            ┆           ┆           ┆           ┆           ┆ Hưng, P.  │\n",
       "│            ┆ …          ┆            ┆           ┆           ┆           ┆           ┆ Phúc La,… │\n",
       "│ hospital   ┆ https://ww ┆ Phu Xuyen  ┆ General   ┆ General   ┆ 20.729694 ┆ 105.91444 ┆ PWH7+VQG  │\n",
       "│            ┆ w.google.c ┆ Hospital   ┆ hospital  ┆ hospital  ┆           ┆ 2         ┆ Phu Xuyen │\n",
       "│            ┆ om/maps/pl ┆            ┆           ┆           ┆           ┆           ┆ Hospital, │\n",
       "│            ┆ …          ┆            ┆           ┆           ┆           ┆           ┆ Q…        │\n",
       "│ hospital   ┆ https://ww ┆ Trang An   ┆ General   ┆ General   ┆ 21.025688 ┆ 105.83533 ┆ 59 Ng.    │\n",
       "│            ┆ w.google.c ┆ General    ┆ hospital  ┆ hospital  ┆           ┆ 1         ┆ Thông     │\n",
       "│            ┆ om/maps/pl ┆ Hospital   ┆           ┆           ┆           ┆           ┆ Phong,    │\n",
       "│            ┆ …          ┆            ┆           ┆           ┆           ┆           ┆ Văn       │\n",
       "│            ┆            ┆            ┆           ┆           ┆           ┆           ┆ Chương…   │\n",
       "└────────────┴────────────┴────────────┴───────────┴───────────┴───────────┴───────────┴───────────┘"
      ]
     },
     "execution_count": 3,
     "metadata": {},
     "output_type": "execute_result"
    }
   ],
   "source": [
    "df = pl.read_parquet(\"../datasets/raw/oss/ha_noi_0.parquet\")\n",
    "df"
   ]
  },
  {
   "cell_type": "code",
   "execution_count": 4,
   "id": "f2cfa440-e8bc-45fd-a1a5-e72667b5d0c0",
   "metadata": {},
   "outputs": [
    {
     "ename": "ImportError",
     "evalue": "attempted relative import with no known parent package",
     "output_type": "error",
     "traceback": [
      "\u001b[31m---------------------------------------------------------------------------\u001b[39m",
      "\u001b[31mImportError\u001b[39m                               Traceback (most recent call last)",
      "\u001b[36mCell\u001b[39m\u001b[36m \u001b[39m\u001b[32mIn[4]\u001b[39m\u001b[32m, line 1\u001b[39m\n\u001b[32m----> \u001b[39m\u001b[32m1\u001b[39m \u001b[38;5;28;01mfrom\u001b[39;00m\u001b[38;5;250m \u001b[39m\u001b[34;01m.\u001b[39;00m\u001b[34;01m.\u001b[39;00m\u001b[34;01mmylib\u001b[39;00m\u001b[34;01m.\u001b[39;00m\u001b[34;01mutils\u001b[39;00m\u001b[38;5;250m \u001b[39m\u001b[38;5;28;01mimport\u001b[39;00m filter_within_radius\n",
      "\u001b[31mImportError\u001b[39m: attempted relative import with no known parent package"
     ]
    }
   ],
   "source": [
    "from ..mylib.utils import filter_within_radius"
   ]
  },
  {
   "cell_type": "code",
   "execution_count": 5,
   "id": "5d63f818-cf5f-473e-967f-b1d6abdd7fd9",
   "metadata": {},
   "outputs": [
    {
     "data": {
      "text/html": [
       "<div><style>\n",
       ".dataframe > thead > tr,\n",
       ".dataframe > tbody > tr {\n",
       "  text-align: right;\n",
       "  white-space: pre-wrap;\n",
       "}\n",
       "</style>\n",
       "<small>shape: (575, 5)</small><table border=\"1\" class=\"dataframe\"><thead><tr><th>title</th><th>category</th><th>latitude</th><th>longitude</th><th>address</th></tr><tr><td>str</td><td>str</td><td>f64</td><td>f64</td><td>str</td></tr></thead><tbody><tr><td>&quot;Dth Transport &amp; Construction T…</td><td>&quot;Bus stop&quot;</td><td>21.007582</td><td>105.849877</td><td>&quot;12/33, De To Hoang Street, Hai…</td></tr><tr><td>&quot;(A) Trần Khánh Dư&quot;</td><td>&quot;Bus stop&quot;</td><td>21.023383</td><td>105.860567</td><td>&quot;Phan Chu Trinh, Hoàn Kiếm, Hà …</td></tr><tr><td>&quot;Ga Hà Nội&quot;</td><td>&quot;Bus stop&quot;</td><td>21.02377</td><td>105.841351</td><td>&quot;Cửa Nam, Hoàn Kiếm, Hà Nội&quot;</td></tr><tr><td>&quot;49&quot;</td><td>&quot;Bus stop&quot;</td><td>21.025306</td><td>105.844023</td><td>&quot;nhà hàng nhật Kimono P. Lý Thư…</td></tr><tr><td>&quot;Ha Thanh Trading &amp; Travel Tran…</td><td>&quot;Bus stop&quot;</td><td>21.029688</td><td>105.850432</td><td>&quot;128, Hang Trong Street, Hang T…</td></tr><tr><td>&hellip;</td><td>&hellip;</td><td>&hellip;</td><td>&hellip;</td><td>&hellip;</td></tr><tr><td>&quot;Hong Ngoc General Hospital&quot;</td><td>&quot;General hospital&quot;</td><td>21.042482</td><td>105.844177</td><td>&quot;55 P. Yên Ninh, Quán Thánh, Ba…</td></tr><tr><td>&quot;Dong Anh General Hospital&quot;</td><td>&quot;General hospital&quot;</td><td>21.139304</td><td>105.853405</td><td>&quot;48 Đ. Đản Dị, Uy Nỗ, Đông Anh,…</td></tr><tr><td>&quot;Thien Duc Hospital&quot;</td><td>&quot;General hospital&quot;</td><td>20.968677</td><td>105.78678</td><td>&quot;207 Đ. Phùng Hưng, P. Phúc La,…</td></tr><tr><td>&quot;Phu Xuyen Hospital&quot;</td><td>&quot;General hospital&quot;</td><td>20.729694</td><td>105.914442</td><td>&quot;PWH7+VQG Phu Xuyen Hospital, Q…</td></tr><tr><td>&quot;Trang An General Hospital&quot;</td><td>&quot;General hospital&quot;</td><td>21.025688</td><td>105.835331</td><td>&quot;59 Ng. Thông Phong, Văn Chương…</td></tr></tbody></table></div>"
      ],
      "text/plain": [
       "shape: (575, 5)\n",
       "┌────────────────────┬──────────────────┬───────────┬────────────┬─────────────────────────────────┐\n",
       "│ title              ┆ category         ┆ latitude  ┆ longitude  ┆ address                         │\n",
       "│ ---                ┆ ---              ┆ ---       ┆ ---        ┆ ---                             │\n",
       "│ str                ┆ str              ┆ f64       ┆ f64        ┆ str                             │\n",
       "╞════════════════════╪══════════════════╪═══════════╪════════════╪═════════════════════════════════╡\n",
       "│ Dth Transport &    ┆ Bus stop         ┆ 21.007582 ┆ 105.849877 ┆ 12/33, De To Hoang Street, Hai… │\n",
       "│ Construction T…    ┆                  ┆           ┆            ┆                                 │\n",
       "│ (A) Trần Khánh Dư  ┆ Bus stop         ┆ 21.023383 ┆ 105.860567 ┆ Phan Chu Trinh, Hoàn Kiếm, Hà … │\n",
       "│ Ga Hà Nội          ┆ Bus stop         ┆ 21.02377  ┆ 105.841351 ┆ Cửa Nam, Hoàn Kiếm, Hà Nội      │\n",
       "│ 49                 ┆ Bus stop         ┆ 21.025306 ┆ 105.844023 ┆ nhà hàng nhật Kimono P. Lý Thư… │\n",
       "│ Ha Thanh Trading & ┆ Bus stop         ┆ 21.029688 ┆ 105.850432 ┆ 128, Hang Trong Street, Hang T… │\n",
       "│ Travel Tran…       ┆                  ┆           ┆            ┆                                 │\n",
       "│ …                  ┆ …                ┆ …         ┆ …          ┆ …                               │\n",
       "│ Hong Ngoc General  ┆ General hospital ┆ 21.042482 ┆ 105.844177 ┆ 55 P. Yên Ninh, Quán Thánh, Ba… │\n",
       "│ Hospital           ┆                  ┆           ┆            ┆                                 │\n",
       "│ Dong Anh General   ┆ General hospital ┆ 21.139304 ┆ 105.853405 ┆ 48 Đ. Đản Dị, Uy Nỗ, Đông Anh,… │\n",
       "│ Hospital           ┆                  ┆           ┆            ┆                                 │\n",
       "│ Thien Duc Hospital ┆ General hospital ┆ 20.968677 ┆ 105.78678  ┆ 207 Đ. Phùng Hưng, P. Phúc La,… │\n",
       "│ Phu Xuyen Hospital ┆ General hospital ┆ 20.729694 ┆ 105.914442 ┆ PWH7+VQG Phu Xuyen Hospital, Q… │\n",
       "│ Trang An General   ┆ General hospital ┆ 21.025688 ┆ 105.835331 ┆ 59 Ng. Thông Phong, Văn Chương… │\n",
       "│ Hospital           ┆                  ┆           ┆            ┆                                 │\n",
       "└────────────────────┴──────────────────┴───────────┴────────────┴─────────────────────────────────┘"
      ]
     },
     "execution_count": 5,
     "metadata": {},
     "output_type": "execute_result"
    }
   ],
   "source": [
    "df.drop('query', 'link', 'categories')"
   ]
  }
 ],
 "metadata": {
  "kernelspec": {
   "display_name": "Python 3 (ipykernel)",
   "language": "python",
   "name": "python3"
  },
  "language_info": {
   "codemirror_mode": {
    "name": "ipython",
    "version": 3
   },
   "file_extension": ".py",
   "mimetype": "text/x-python",
   "name": "python",
   "nbconvert_exporter": "python",
   "pygments_lexer": "ipython3",
   "version": "3.12.10"
  }
 },
 "nbformat": 4,
 "nbformat_minor": 5
}
